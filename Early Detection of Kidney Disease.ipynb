{
 "cells": [
  {
   "cell_type": "code",
   "execution_count": null,
   "id": "47c41b75",
   "metadata": {},
   "outputs": [],
   "source": [
    "import numpy as np\n",
    "import pandas as pd\n",
    "import matplotlib.pyplot as plt\n",
    "%matplotlib inline\n",
    "import seaborn as sns\n",
    "from sklearn.metrics import accuracy_score,precision_score,f1_score,confusion_matrix,recall_score,classification_report"
   ]
  },
  {
   "cell_type": "code",
   "execution_count": 289,
   "id": "8f48eb63",
   "metadata": {},
   "outputs": [
    {
     "data": {
      "text/html": [
       "<div>\n",
       "<style scoped>\n",
       "    .dataframe tbody tr th:only-of-type {\n",
       "        vertical-align: middle;\n",
       "    }\n",
       "\n",
       "    .dataframe tbody tr th {\n",
       "        vertical-align: top;\n",
       "    }\n",
       "\n",
       "    .dataframe thead th {\n",
       "        text-align: right;\n",
       "    }\n",
       "</style>\n",
       "<table border=\"1\" class=\"dataframe\">\n",
       "  <thead>\n",
       "    <tr style=\"text-align: right;\">\n",
       "      <th></th>\n",
       "      <th>id</th>\n",
       "      <th>age</th>\n",
       "      <th>bp</th>\n",
       "      <th>sg</th>\n",
       "      <th>al</th>\n",
       "      <th>su</th>\n",
       "      <th>rbc</th>\n",
       "      <th>pc</th>\n",
       "      <th>pcc</th>\n",
       "      <th>ba</th>\n",
       "      <th>...</th>\n",
       "      <th>pcv</th>\n",
       "      <th>wc</th>\n",
       "      <th>rc</th>\n",
       "      <th>htn</th>\n",
       "      <th>dm</th>\n",
       "      <th>cad</th>\n",
       "      <th>appet</th>\n",
       "      <th>pe</th>\n",
       "      <th>ane</th>\n",
       "      <th>classification</th>\n",
       "    </tr>\n",
       "  </thead>\n",
       "  <tbody>\n",
       "    <tr>\n",
       "      <th>0</th>\n",
       "      <td>0</td>\n",
       "      <td>48.0</td>\n",
       "      <td>80.0</td>\n",
       "      <td>1.020</td>\n",
       "      <td>1.0</td>\n",
       "      <td>0.0</td>\n",
       "      <td>NaN</td>\n",
       "      <td>normal</td>\n",
       "      <td>notpresent</td>\n",
       "      <td>notpresent</td>\n",
       "      <td>...</td>\n",
       "      <td>44</td>\n",
       "      <td>7800</td>\n",
       "      <td>5.2</td>\n",
       "      <td>yes</td>\n",
       "      <td>yes</td>\n",
       "      <td>no</td>\n",
       "      <td>good</td>\n",
       "      <td>no</td>\n",
       "      <td>no</td>\n",
       "      <td>ckd</td>\n",
       "    </tr>\n",
       "    <tr>\n",
       "      <th>1</th>\n",
       "      <td>1</td>\n",
       "      <td>7.0</td>\n",
       "      <td>50.0</td>\n",
       "      <td>1.020</td>\n",
       "      <td>4.0</td>\n",
       "      <td>0.0</td>\n",
       "      <td>NaN</td>\n",
       "      <td>normal</td>\n",
       "      <td>notpresent</td>\n",
       "      <td>notpresent</td>\n",
       "      <td>...</td>\n",
       "      <td>38</td>\n",
       "      <td>6000</td>\n",
       "      <td>NaN</td>\n",
       "      <td>no</td>\n",
       "      <td>no</td>\n",
       "      <td>no</td>\n",
       "      <td>good</td>\n",
       "      <td>no</td>\n",
       "      <td>no</td>\n",
       "      <td>ckd</td>\n",
       "    </tr>\n",
       "    <tr>\n",
       "      <th>2</th>\n",
       "      <td>2</td>\n",
       "      <td>62.0</td>\n",
       "      <td>80.0</td>\n",
       "      <td>1.010</td>\n",
       "      <td>2.0</td>\n",
       "      <td>3.0</td>\n",
       "      <td>normal</td>\n",
       "      <td>normal</td>\n",
       "      <td>notpresent</td>\n",
       "      <td>notpresent</td>\n",
       "      <td>...</td>\n",
       "      <td>31</td>\n",
       "      <td>7500</td>\n",
       "      <td>NaN</td>\n",
       "      <td>no</td>\n",
       "      <td>yes</td>\n",
       "      <td>no</td>\n",
       "      <td>poor</td>\n",
       "      <td>no</td>\n",
       "      <td>yes</td>\n",
       "      <td>ckd</td>\n",
       "    </tr>\n",
       "    <tr>\n",
       "      <th>3</th>\n",
       "      <td>3</td>\n",
       "      <td>48.0</td>\n",
       "      <td>70.0</td>\n",
       "      <td>1.005</td>\n",
       "      <td>4.0</td>\n",
       "      <td>0.0</td>\n",
       "      <td>normal</td>\n",
       "      <td>abnormal</td>\n",
       "      <td>present</td>\n",
       "      <td>notpresent</td>\n",
       "      <td>...</td>\n",
       "      <td>32</td>\n",
       "      <td>6700</td>\n",
       "      <td>3.9</td>\n",
       "      <td>yes</td>\n",
       "      <td>no</td>\n",
       "      <td>no</td>\n",
       "      <td>poor</td>\n",
       "      <td>yes</td>\n",
       "      <td>yes</td>\n",
       "      <td>ckd</td>\n",
       "    </tr>\n",
       "    <tr>\n",
       "      <th>4</th>\n",
       "      <td>4</td>\n",
       "      <td>51.0</td>\n",
       "      <td>80.0</td>\n",
       "      <td>1.010</td>\n",
       "      <td>2.0</td>\n",
       "      <td>0.0</td>\n",
       "      <td>normal</td>\n",
       "      <td>normal</td>\n",
       "      <td>notpresent</td>\n",
       "      <td>notpresent</td>\n",
       "      <td>...</td>\n",
       "      <td>35</td>\n",
       "      <td>7300</td>\n",
       "      <td>4.6</td>\n",
       "      <td>no</td>\n",
       "      <td>no</td>\n",
       "      <td>no</td>\n",
       "      <td>good</td>\n",
       "      <td>no</td>\n",
       "      <td>no</td>\n",
       "      <td>ckd</td>\n",
       "    </tr>\n",
       "  </tbody>\n",
       "</table>\n",
       "<p>5 rows × 26 columns</p>\n",
       "</div>"
      ],
      "text/plain": [
       "   id   age    bp     sg   al   su     rbc        pc         pcc          ba  \\\n",
       "0   0  48.0  80.0  1.020  1.0  0.0     NaN    normal  notpresent  notpresent   \n",
       "1   1   7.0  50.0  1.020  4.0  0.0     NaN    normal  notpresent  notpresent   \n",
       "2   2  62.0  80.0  1.010  2.0  3.0  normal    normal  notpresent  notpresent   \n",
       "3   3  48.0  70.0  1.005  4.0  0.0  normal  abnormal     present  notpresent   \n",
       "4   4  51.0  80.0  1.010  2.0  0.0  normal    normal  notpresent  notpresent   \n",
       "\n",
       "   ...  pcv    wc   rc  htn   dm  cad appet   pe  ane classification  \n",
       "0  ...   44  7800  5.2  yes  yes   no  good   no   no            ckd  \n",
       "1  ...   38  6000  NaN   no   no   no  good   no   no            ckd  \n",
       "2  ...   31  7500  NaN   no  yes   no  poor   no  yes            ckd  \n",
       "3  ...   32  6700  3.9  yes   no   no  poor  yes  yes            ckd  \n",
       "4  ...   35  7300  4.6   no   no   no  good   no   no            ckd  \n",
       "\n",
       "[5 rows x 26 columns]"
      ]
     },
     "execution_count": 289,
     "metadata": {},
     "output_type": "execute_result"
    }
   ],
   "source": [
    "df=pd.read_csv(\"C:/Users/ADMIN/Downloads/kideny disease dataset.csv\")\n",
    "df.head()"
   ]
  },
  {
   "cell_type": "code",
   "execution_count": 290,
   "id": "4b3f6d68",
   "metadata": {},
   "outputs": [
    {
     "data": {
      "text/html": [
       "<div>\n",
       "<style scoped>\n",
       "    .dataframe tbody tr th:only-of-type {\n",
       "        vertical-align: middle;\n",
       "    }\n",
       "\n",
       "    .dataframe tbody tr th {\n",
       "        vertical-align: top;\n",
       "    }\n",
       "\n",
       "    .dataframe thead th {\n",
       "        text-align: right;\n",
       "    }\n",
       "</style>\n",
       "<table border=\"1\" class=\"dataframe\">\n",
       "  <thead>\n",
       "    <tr style=\"text-align: right;\">\n",
       "      <th></th>\n",
       "      <th>id</th>\n",
       "      <th>age</th>\n",
       "      <th>bp</th>\n",
       "      <th>sg</th>\n",
       "      <th>al</th>\n",
       "      <th>su</th>\n",
       "      <th>rbc</th>\n",
       "      <th>pc</th>\n",
       "      <th>pcc</th>\n",
       "      <th>ba</th>\n",
       "      <th>...</th>\n",
       "      <th>pcv</th>\n",
       "      <th>wc</th>\n",
       "      <th>rc</th>\n",
       "      <th>htn</th>\n",
       "      <th>dm</th>\n",
       "      <th>cad</th>\n",
       "      <th>appet</th>\n",
       "      <th>pe</th>\n",
       "      <th>ane</th>\n",
       "      <th>classification</th>\n",
       "    </tr>\n",
       "  </thead>\n",
       "  <tbody>\n",
       "    <tr>\n",
       "      <th>395</th>\n",
       "      <td>395</td>\n",
       "      <td>55.0</td>\n",
       "      <td>80.0</td>\n",
       "      <td>1.020</td>\n",
       "      <td>0.0</td>\n",
       "      <td>0.0</td>\n",
       "      <td>normal</td>\n",
       "      <td>normal</td>\n",
       "      <td>notpresent</td>\n",
       "      <td>notpresent</td>\n",
       "      <td>...</td>\n",
       "      <td>47</td>\n",
       "      <td>6700</td>\n",
       "      <td>4.9</td>\n",
       "      <td>no</td>\n",
       "      <td>no</td>\n",
       "      <td>no</td>\n",
       "      <td>good</td>\n",
       "      <td>no</td>\n",
       "      <td>no</td>\n",
       "      <td>notckd</td>\n",
       "    </tr>\n",
       "    <tr>\n",
       "      <th>396</th>\n",
       "      <td>396</td>\n",
       "      <td>42.0</td>\n",
       "      <td>70.0</td>\n",
       "      <td>1.025</td>\n",
       "      <td>0.0</td>\n",
       "      <td>0.0</td>\n",
       "      <td>normal</td>\n",
       "      <td>normal</td>\n",
       "      <td>notpresent</td>\n",
       "      <td>notpresent</td>\n",
       "      <td>...</td>\n",
       "      <td>54</td>\n",
       "      <td>7800</td>\n",
       "      <td>6.2</td>\n",
       "      <td>no</td>\n",
       "      <td>no</td>\n",
       "      <td>no</td>\n",
       "      <td>good</td>\n",
       "      <td>no</td>\n",
       "      <td>no</td>\n",
       "      <td>notckd</td>\n",
       "    </tr>\n",
       "    <tr>\n",
       "      <th>397</th>\n",
       "      <td>397</td>\n",
       "      <td>12.0</td>\n",
       "      <td>80.0</td>\n",
       "      <td>1.020</td>\n",
       "      <td>0.0</td>\n",
       "      <td>0.0</td>\n",
       "      <td>normal</td>\n",
       "      <td>normal</td>\n",
       "      <td>notpresent</td>\n",
       "      <td>notpresent</td>\n",
       "      <td>...</td>\n",
       "      <td>49</td>\n",
       "      <td>6600</td>\n",
       "      <td>5.4</td>\n",
       "      <td>no</td>\n",
       "      <td>no</td>\n",
       "      <td>no</td>\n",
       "      <td>good</td>\n",
       "      <td>no</td>\n",
       "      <td>no</td>\n",
       "      <td>notckd</td>\n",
       "    </tr>\n",
       "    <tr>\n",
       "      <th>398</th>\n",
       "      <td>398</td>\n",
       "      <td>17.0</td>\n",
       "      <td>60.0</td>\n",
       "      <td>1.025</td>\n",
       "      <td>0.0</td>\n",
       "      <td>0.0</td>\n",
       "      <td>normal</td>\n",
       "      <td>normal</td>\n",
       "      <td>notpresent</td>\n",
       "      <td>notpresent</td>\n",
       "      <td>...</td>\n",
       "      <td>51</td>\n",
       "      <td>7200</td>\n",
       "      <td>5.9</td>\n",
       "      <td>no</td>\n",
       "      <td>no</td>\n",
       "      <td>no</td>\n",
       "      <td>good</td>\n",
       "      <td>no</td>\n",
       "      <td>no</td>\n",
       "      <td>notckd</td>\n",
       "    </tr>\n",
       "    <tr>\n",
       "      <th>399</th>\n",
       "      <td>399</td>\n",
       "      <td>58.0</td>\n",
       "      <td>80.0</td>\n",
       "      <td>1.025</td>\n",
       "      <td>0.0</td>\n",
       "      <td>0.0</td>\n",
       "      <td>normal</td>\n",
       "      <td>normal</td>\n",
       "      <td>notpresent</td>\n",
       "      <td>notpresent</td>\n",
       "      <td>...</td>\n",
       "      <td>53</td>\n",
       "      <td>6800</td>\n",
       "      <td>6.1</td>\n",
       "      <td>no</td>\n",
       "      <td>no</td>\n",
       "      <td>no</td>\n",
       "      <td>good</td>\n",
       "      <td>no</td>\n",
       "      <td>no</td>\n",
       "      <td>notckd</td>\n",
       "    </tr>\n",
       "  </tbody>\n",
       "</table>\n",
       "<p>5 rows × 26 columns</p>\n",
       "</div>"
      ],
      "text/plain": [
       "      id   age    bp     sg   al   su     rbc      pc         pcc          ba  \\\n",
       "395  395  55.0  80.0  1.020  0.0  0.0  normal  normal  notpresent  notpresent   \n",
       "396  396  42.0  70.0  1.025  0.0  0.0  normal  normal  notpresent  notpresent   \n",
       "397  397  12.0  80.0  1.020  0.0  0.0  normal  normal  notpresent  notpresent   \n",
       "398  398  17.0  60.0  1.025  0.0  0.0  normal  normal  notpresent  notpresent   \n",
       "399  399  58.0  80.0  1.025  0.0  0.0  normal  normal  notpresent  notpresent   \n",
       "\n",
       "     ...  pcv    wc   rc  htn  dm  cad appet  pe ane classification  \n",
       "395  ...   47  6700  4.9   no  no   no  good  no  no         notckd  \n",
       "396  ...   54  7800  6.2   no  no   no  good  no  no         notckd  \n",
       "397  ...   49  6600  5.4   no  no   no  good  no  no         notckd  \n",
       "398  ...   51  7200  5.9   no  no   no  good  no  no         notckd  \n",
       "399  ...   53  6800  6.1   no  no   no  good  no  no         notckd  \n",
       "\n",
       "[5 rows x 26 columns]"
      ]
     },
     "execution_count": 290,
     "metadata": {},
     "output_type": "execute_result"
    }
   ],
   "source": [
    "df.tail()"
   ]
  },
  {
   "cell_type": "code",
   "execution_count": 291,
   "id": "168156ff",
   "metadata": {},
   "outputs": [
    {
     "name": "stdout",
     "output_type": "stream",
     "text": [
      "<class 'pandas.core.frame.DataFrame'>\n",
      "RangeIndex: 400 entries, 0 to 399\n",
      "Data columns (total 26 columns):\n",
      " #   Column          Non-Null Count  Dtype  \n",
      "---  ------          --------------  -----  \n",
      " 0   id              400 non-null    int64  \n",
      " 1   age             391 non-null    float64\n",
      " 2   bp              388 non-null    float64\n",
      " 3   sg              353 non-null    float64\n",
      " 4   al              354 non-null    float64\n",
      " 5   su              351 non-null    float64\n",
      " 6   rbc             248 non-null    object \n",
      " 7   pc              335 non-null    object \n",
      " 8   pcc             396 non-null    object \n",
      " 9   ba              396 non-null    object \n",
      " 10  bgr             356 non-null    float64\n",
      " 11  bu              381 non-null    float64\n",
      " 12  sc              383 non-null    float64\n",
      " 13  sod             313 non-null    float64\n",
      " 14  pot             312 non-null    float64\n",
      " 15  hemo            348 non-null    float64\n",
      " 16  pcv             330 non-null    object \n",
      " 17  wc              295 non-null    object \n",
      " 18  rc              270 non-null    object \n",
      " 19  htn             398 non-null    object \n",
      " 20  dm              398 non-null    object \n",
      " 21  cad             398 non-null    object \n",
      " 22  appet           399 non-null    object \n",
      " 23  pe              399 non-null    object \n",
      " 24  ane             399 non-null    object \n",
      " 25  classification  400 non-null    object \n",
      "dtypes: float64(11), int64(1), object(14)\n",
      "memory usage: 81.4+ KB\n"
     ]
    }
   ],
   "source": [
    "df.info()"
   ]
  },
  {
   "cell_type": "code",
   "execution_count": 292,
   "id": "3bc52ef9",
   "metadata": {},
   "outputs": [
    {
     "data": {
      "text/plain": [
       "Index(['id', 'age', 'bp', 'sg', 'al', 'su', 'rbc', 'pc', 'pcc', 'ba', 'bgr',\n",
       "       'bu', 'sc', 'sod', 'pot', 'hemo', 'pcv', 'wc', 'rc', 'htn', 'dm', 'cad',\n",
       "       'appet', 'pe', 'ane', 'classification'],\n",
       "      dtype='object')"
      ]
     },
     "execution_count": 292,
     "metadata": {},
     "output_type": "execute_result"
    }
   ],
   "source": [
    "df.columns"
   ]
  },
  {
   "cell_type": "code",
   "execution_count": 293,
   "id": "d817e4c8",
   "metadata": {},
   "outputs": [
    {
     "data": {
      "text/plain": [
       "(400, 26)"
      ]
     },
     "execution_count": 293,
     "metadata": {},
     "output_type": "execute_result"
    }
   ],
   "source": [
    "df.shape"
   ]
  },
  {
   "cell_type": "code",
   "execution_count": 294,
   "id": "f6866eb9",
   "metadata": {},
   "outputs": [
    {
     "data": {
      "text/html": [
       "<div>\n",
       "<style scoped>\n",
       "    .dataframe tbody tr th:only-of-type {\n",
       "        vertical-align: middle;\n",
       "    }\n",
       "\n",
       "    .dataframe tbody tr th {\n",
       "        vertical-align: top;\n",
       "    }\n",
       "\n",
       "    .dataframe thead th {\n",
       "        text-align: right;\n",
       "    }\n",
       "</style>\n",
       "<table border=\"1\" class=\"dataframe\">\n",
       "  <thead>\n",
       "    <tr style=\"text-align: right;\">\n",
       "      <th></th>\n",
       "      <th>id</th>\n",
       "      <th>age</th>\n",
       "      <th>bp</th>\n",
       "      <th>sg</th>\n",
       "      <th>al</th>\n",
       "      <th>su</th>\n",
       "      <th>bgr</th>\n",
       "      <th>bu</th>\n",
       "      <th>sc</th>\n",
       "      <th>sod</th>\n",
       "      <th>pot</th>\n",
       "      <th>hemo</th>\n",
       "    </tr>\n",
       "  </thead>\n",
       "  <tbody>\n",
       "    <tr>\n",
       "      <th>id</th>\n",
       "      <td>1.000000</td>\n",
       "      <td>-0.185308</td>\n",
       "      <td>-0.245744</td>\n",
       "      <td>0.642156</td>\n",
       "      <td>-0.541993</td>\n",
       "      <td>-0.283416</td>\n",
       "      <td>-0.338673</td>\n",
       "      <td>-0.307175</td>\n",
       "      <td>-0.268683</td>\n",
       "      <td>0.364251</td>\n",
       "      <td>-0.092347</td>\n",
       "      <td>0.640298</td>\n",
       "    </tr>\n",
       "    <tr>\n",
       "      <th>age</th>\n",
       "      <td>-0.185308</td>\n",
       "      <td>1.000000</td>\n",
       "      <td>0.159480</td>\n",
       "      <td>-0.191096</td>\n",
       "      <td>0.122091</td>\n",
       "      <td>0.220866</td>\n",
       "      <td>0.244992</td>\n",
       "      <td>0.196985</td>\n",
       "      <td>0.132531</td>\n",
       "      <td>-0.100046</td>\n",
       "      <td>0.058377</td>\n",
       "      <td>-0.192928</td>\n",
       "    </tr>\n",
       "    <tr>\n",
       "      <th>bp</th>\n",
       "      <td>-0.245744</td>\n",
       "      <td>0.159480</td>\n",
       "      <td>1.000000</td>\n",
       "      <td>-0.218836</td>\n",
       "      <td>0.160689</td>\n",
       "      <td>0.222576</td>\n",
       "      <td>0.160193</td>\n",
       "      <td>0.188517</td>\n",
       "      <td>0.146222</td>\n",
       "      <td>-0.116422</td>\n",
       "      <td>0.075151</td>\n",
       "      <td>-0.306540</td>\n",
       "    </tr>\n",
       "    <tr>\n",
       "      <th>sg</th>\n",
       "      <td>0.642156</td>\n",
       "      <td>-0.191096</td>\n",
       "      <td>-0.218836</td>\n",
       "      <td>1.000000</td>\n",
       "      <td>-0.469760</td>\n",
       "      <td>-0.296234</td>\n",
       "      <td>-0.374710</td>\n",
       "      <td>-0.314295</td>\n",
       "      <td>-0.361473</td>\n",
       "      <td>0.412190</td>\n",
       "      <td>-0.072787</td>\n",
       "      <td>0.602582</td>\n",
       "    </tr>\n",
       "    <tr>\n",
       "      <th>al</th>\n",
       "      <td>-0.541993</td>\n",
       "      <td>0.122091</td>\n",
       "      <td>0.160689</td>\n",
       "      <td>-0.469760</td>\n",
       "      <td>1.000000</td>\n",
       "      <td>0.269305</td>\n",
       "      <td>0.379464</td>\n",
       "      <td>0.453528</td>\n",
       "      <td>0.399198</td>\n",
       "      <td>-0.459896</td>\n",
       "      <td>0.129038</td>\n",
       "      <td>-0.634632</td>\n",
       "    </tr>\n",
       "    <tr>\n",
       "      <th>su</th>\n",
       "      <td>-0.283416</td>\n",
       "      <td>0.220866</td>\n",
       "      <td>0.222576</td>\n",
       "      <td>-0.296234</td>\n",
       "      <td>0.269305</td>\n",
       "      <td>1.000000</td>\n",
       "      <td>0.717827</td>\n",
       "      <td>0.168583</td>\n",
       "      <td>0.223244</td>\n",
       "      <td>-0.131776</td>\n",
       "      <td>0.219450</td>\n",
       "      <td>-0.224775</td>\n",
       "    </tr>\n",
       "    <tr>\n",
       "      <th>bgr</th>\n",
       "      <td>-0.338673</td>\n",
       "      <td>0.244992</td>\n",
       "      <td>0.160193</td>\n",
       "      <td>-0.374710</td>\n",
       "      <td>0.379464</td>\n",
       "      <td>0.717827</td>\n",
       "      <td>1.000000</td>\n",
       "      <td>0.143322</td>\n",
       "      <td>0.114875</td>\n",
       "      <td>-0.267848</td>\n",
       "      <td>0.066966</td>\n",
       "      <td>-0.306189</td>\n",
       "    </tr>\n",
       "    <tr>\n",
       "      <th>bu</th>\n",
       "      <td>-0.307175</td>\n",
       "      <td>0.196985</td>\n",
       "      <td>0.188517</td>\n",
       "      <td>-0.314295</td>\n",
       "      <td>0.453528</td>\n",
       "      <td>0.168583</td>\n",
       "      <td>0.143322</td>\n",
       "      <td>1.000000</td>\n",
       "      <td>0.586368</td>\n",
       "      <td>-0.323054</td>\n",
       "      <td>0.357049</td>\n",
       "      <td>-0.610360</td>\n",
       "    </tr>\n",
       "    <tr>\n",
       "      <th>sc</th>\n",
       "      <td>-0.268683</td>\n",
       "      <td>0.132531</td>\n",
       "      <td>0.146222</td>\n",
       "      <td>-0.361473</td>\n",
       "      <td>0.399198</td>\n",
       "      <td>0.223244</td>\n",
       "      <td>0.114875</td>\n",
       "      <td>0.586368</td>\n",
       "      <td>1.000000</td>\n",
       "      <td>-0.690158</td>\n",
       "      <td>0.326107</td>\n",
       "      <td>-0.401670</td>\n",
       "    </tr>\n",
       "    <tr>\n",
       "      <th>sod</th>\n",
       "      <td>0.364251</td>\n",
       "      <td>-0.100046</td>\n",
       "      <td>-0.116422</td>\n",
       "      <td>0.412190</td>\n",
       "      <td>-0.459896</td>\n",
       "      <td>-0.131776</td>\n",
       "      <td>-0.267848</td>\n",
       "      <td>-0.323054</td>\n",
       "      <td>-0.690158</td>\n",
       "      <td>1.000000</td>\n",
       "      <td>0.097887</td>\n",
       "      <td>0.365183</td>\n",
       "    </tr>\n",
       "    <tr>\n",
       "      <th>pot</th>\n",
       "      <td>-0.092347</td>\n",
       "      <td>0.058377</td>\n",
       "      <td>0.075151</td>\n",
       "      <td>-0.072787</td>\n",
       "      <td>0.129038</td>\n",
       "      <td>0.219450</td>\n",
       "      <td>0.066966</td>\n",
       "      <td>0.357049</td>\n",
       "      <td>0.326107</td>\n",
       "      <td>0.097887</td>\n",
       "      <td>1.000000</td>\n",
       "      <td>-0.133746</td>\n",
       "    </tr>\n",
       "    <tr>\n",
       "      <th>hemo</th>\n",
       "      <td>0.640298</td>\n",
       "      <td>-0.192928</td>\n",
       "      <td>-0.306540</td>\n",
       "      <td>0.602582</td>\n",
       "      <td>-0.634632</td>\n",
       "      <td>-0.224775</td>\n",
       "      <td>-0.306189</td>\n",
       "      <td>-0.610360</td>\n",
       "      <td>-0.401670</td>\n",
       "      <td>0.365183</td>\n",
       "      <td>-0.133746</td>\n",
       "      <td>1.000000</td>\n",
       "    </tr>\n",
       "  </tbody>\n",
       "</table>\n",
       "</div>"
      ],
      "text/plain": [
       "            id       age        bp        sg        al        su       bgr  \\\n",
       "id    1.000000 -0.185308 -0.245744  0.642156 -0.541993 -0.283416 -0.338673   \n",
       "age  -0.185308  1.000000  0.159480 -0.191096  0.122091  0.220866  0.244992   \n",
       "bp   -0.245744  0.159480  1.000000 -0.218836  0.160689  0.222576  0.160193   \n",
       "sg    0.642156 -0.191096 -0.218836  1.000000 -0.469760 -0.296234 -0.374710   \n",
       "al   -0.541993  0.122091  0.160689 -0.469760  1.000000  0.269305  0.379464   \n",
       "su   -0.283416  0.220866  0.222576 -0.296234  0.269305  1.000000  0.717827   \n",
       "bgr  -0.338673  0.244992  0.160193 -0.374710  0.379464  0.717827  1.000000   \n",
       "bu   -0.307175  0.196985  0.188517 -0.314295  0.453528  0.168583  0.143322   \n",
       "sc   -0.268683  0.132531  0.146222 -0.361473  0.399198  0.223244  0.114875   \n",
       "sod   0.364251 -0.100046 -0.116422  0.412190 -0.459896 -0.131776 -0.267848   \n",
       "pot  -0.092347  0.058377  0.075151 -0.072787  0.129038  0.219450  0.066966   \n",
       "hemo  0.640298 -0.192928 -0.306540  0.602582 -0.634632 -0.224775 -0.306189   \n",
       "\n",
       "            bu        sc       sod       pot      hemo  \n",
       "id   -0.307175 -0.268683  0.364251 -0.092347  0.640298  \n",
       "age   0.196985  0.132531 -0.100046  0.058377 -0.192928  \n",
       "bp    0.188517  0.146222 -0.116422  0.075151 -0.306540  \n",
       "sg   -0.314295 -0.361473  0.412190 -0.072787  0.602582  \n",
       "al    0.453528  0.399198 -0.459896  0.129038 -0.634632  \n",
       "su    0.168583  0.223244 -0.131776  0.219450 -0.224775  \n",
       "bgr   0.143322  0.114875 -0.267848  0.066966 -0.306189  \n",
       "bu    1.000000  0.586368 -0.323054  0.357049 -0.610360  \n",
       "sc    0.586368  1.000000 -0.690158  0.326107 -0.401670  \n",
       "sod  -0.323054 -0.690158  1.000000  0.097887  0.365183  \n",
       "pot   0.357049  0.326107  0.097887  1.000000 -0.133746  \n",
       "hemo -0.610360 -0.401670  0.365183 -0.133746  1.000000  "
      ]
     },
     "execution_count": 294,
     "metadata": {},
     "output_type": "execute_result"
    }
   ],
   "source": [
    "df.corr()"
   ]
  },
  {
   "cell_type": "code",
   "execution_count": 295,
   "id": "9ab1664c",
   "metadata": {},
   "outputs": [
    {
     "data": {
      "text/plain": [
       "<AxesSubplot:>"
      ]
     },
     "execution_count": 295,
     "metadata": {},
     "output_type": "execute_result"
    },
    {
     "data": {
      "image/png": "[encoded data removed]",
      "text/plain": [
       "<Figure size 640x480 with 2 Axes>"
      ]
     },
     "metadata": {},
     "output_type": "display_data"
    }
   ],
   "source": [
    "sns.heatmap(df.corr(),annot=True)"
   ]
  },
  {
   "cell_type": "code",
   "execution_count": 296,
   "id": "80283ca6",
   "metadata": {},
   "outputs": [],
   "source": [
    "#FINDING NULL VALUES"
   ]
  },
  {
   "cell_type": "code",
   "execution_count": 297,
   "id": "31cf1088",
   "metadata": {},
   "outputs": [
    {
     "data": {
      "text/plain": [
       "id                  0\n",
       "age                 9\n",
       "bp                 12\n",
       "sg                 47\n",
       "al                 46\n",
       "su                 49\n",
       "rbc               152\n",
       "pc                 65\n",
       "pcc                 4\n",
       "ba                  4\n",
       "bgr                44\n",
       "bu                 19\n",
       "sc                 17\n",
       "sod                87\n",
       "pot                88\n",
       "hemo               52\n",
       "pcv                70\n",
       "wc                105\n",
       "rc                130\n",
       "htn                 2\n",
       "dm                  2\n",
       "cad                 2\n",
       "appet               1\n",
       "pe                  1\n",
       "ane                 1\n",
       "classification      0\n",
       "dtype: int64"
      ]
     },
     "execution_count": 297,
     "metadata": {},
     "output_type": "execute_result"
    }
   ],
   "source": [
    "df.isnull().sum()"
   ]
  },
  {
   "cell_type": "code",
   "execution_count": 298,
   "id": "f5cb8b0f",
   "metadata": {},
   "outputs": [
    {
     "data": {
      "text/plain": [
       "id                  int64\n",
       "age               float64\n",
       "bp                float64\n",
       "sg                float64\n",
       "al                float64\n",
       "su                float64\n",
       "rbc                object\n",
       "pc                 object\n",
       "pcc                object\n",
       "ba                 object\n",
       "bgr               float64\n",
       "bu                float64\n",
       "sc                float64\n",
       "sod               float64\n",
       "pot               float64\n",
       "hemo              float64\n",
       "pcv                object\n",
       "wc                 object\n",
       "rc                 object\n",
       "htn                object\n",
       "dm                 object\n",
       "cad                object\n",
       "appet              object\n",
       "pe                 object\n",
       "ane                object\n",
       "classification     object\n",
       "dtype: object"
      ]
     },
     "execution_count": 298,
     "metadata": {},
     "output_type": "execute_result"
    }
   ],
   "source": [
    "df.dtypes"
   ]
  },
  {
   "cell_type": "code",
   "execution_count": 299,
   "id": "caee396c",
   "metadata": {},
   "outputs": [
    {
     "data": {
      "text/plain": [
       "array([[<AxesSubplot:title={'center':'age'}>,\n",
       "        <AxesSubplot:title={'center':'bp'}>,\n",
       "        <AxesSubplot:title={'center':'sg'}>],\n",
       "       [<AxesSubplot:title={'center':'al'}>,\n",
       "        <AxesSubplot:title={'center':'su'}>,\n",
       "        <AxesSubplot:title={'center':'bgr'}>],\n",
       "       [<AxesSubplot:title={'center':'bu'}>,\n",
       "        <AxesSubplot:title={'center':'sc'}>,\n",
       "        <AxesSubplot:title={'center':'sod'}>],\n",
       "       [<AxesSubplot:title={'center':'pot'}>,\n",
       "        <AxesSubplot:title={'center':'hemo'}>, <AxesSubplot:>]],\n",
       "      dtype=object)"
      ]
     },
     "execution_count": 299,
     "metadata": {},
     "output_type": "execute_result"
    },
    {
     "data": {
      "image/png": "[encoded data removed]",
      "text/plain": [
       "<Figure size 2000x2500 with 12 Axes>"
      ]
     },
     "metadata": {},
     "output_type": "display_data"
    }
   ],
   "source": [
    "graph=df.select_dtypes(['float'])\n",
    "graph.hist(figsize=(20,25))"
   ]
  },
  {
   "cell_type": "code",
   "execution_count": 300,
   "id": "0f0e2193",
   "metadata": {},
   "outputs": [],
   "source": [
    "df['bp']=df['bp'].fillna(df['bp'].mean())"
   ]
  },
  {
   "cell_type": "code",
   "execution_count": 301,
   "id": "51fc697f",
   "metadata": {},
   "outputs": [],
   "source": [
    "for i in['age','sg','al','su','bgr','bu','sc','sod','pot','hemo']:\n",
    "    df[i]=df[i].fillna(df[i].median())"
   ]
  },
  {
   "cell_type": "code",
   "execution_count": 302,
   "id": "6ef6f7ca",
   "metadata": {},
   "outputs": [],
   "source": [
    "for j in[ 'rbc', 'pc', 'pcc', 'ba','pcv', 'wc', 'rc', 'htn', 'dm', 'cad',\n",
    "       'appet', 'pe', 'ane']:\n",
    "    df[j]=df[j].fillna(df[j].mode()[0])"
   ]
  },
  {
   "cell_type": "code",
   "execution_count": 303,
   "id": "5532fddb",
   "metadata": {},
   "outputs": [
    {
     "data": {
      "text/plain": [
       "id                0.0\n",
       "age               0.0\n",
       "bp                0.0\n",
       "sg                0.0\n",
       "al                0.0\n",
       "su                0.0\n",
       "rbc               0.0\n",
       "pc                0.0\n",
       "pcc               0.0\n",
       "ba                0.0\n",
       "bgr               0.0\n",
       "bu                0.0\n",
       "sc                0.0\n",
       "sod               0.0\n",
       "pot               0.0\n",
       "hemo              0.0\n",
       "pcv               0.0\n",
       "wc                0.0\n",
       "rc                0.0\n",
       "htn               0.0\n",
       "dm                0.0\n",
       "cad               0.0\n",
       "appet             0.0\n",
       "pe                0.0\n",
       "ane               0.0\n",
       "classification    0.0\n",
       "dtype: float64"
      ]
     },
     "execution_count": 303,
     "metadata": {},
     "output_type": "execute_result"
    }
   ],
   "source": [
    "df.isnull().mean()*100"
   ]
  },
  {
   "cell_type": "code",
   "execution_count": 304,
   "id": "e50fa6f8",
   "metadata": {},
   "outputs": [],
   "source": [
    "#ENCODING"
   ]
  },
  {
   "cell_type": "code",
   "execution_count": 305,
   "id": "6f6629fe",
   "metadata": {},
   "outputs": [
    {
     "data": {
      "text/plain": [
       "id                400\n",
       "age                76\n",
       "bp                 11\n",
       "sg                  5\n",
       "al                  6\n",
       "su                  6\n",
       "rbc                 2\n",
       "pc                  2\n",
       "pcc                 2\n",
       "ba                  2\n",
       "bgr               146\n",
       "bu                118\n",
       "sc                 84\n",
       "sod                34\n",
       "pot                40\n",
       "hemo              116\n",
       "pcv                44\n",
       "wc                 92\n",
       "rc                 46\n",
       "htn                 2\n",
       "dm                  5\n",
       "cad                 3\n",
       "appet               2\n",
       "pe                  2\n",
       "ane                 2\n",
       "classification      3\n",
       "dtype: int64"
      ]
     },
     "execution_count": 305,
     "metadata": {},
     "output_type": "execute_result"
    }
   ],
   "source": [
    "df.nunique()"
   ]
  },
  {
   "cell_type": "code",
   "execution_count": 306,
   "id": "5568c6a6",
   "metadata": {},
   "outputs": [
    {
     "data": {
      "text/plain": [
       "id                  int64\n",
       "age               float64\n",
       "bp                float64\n",
       "sg                float64\n",
       "al                float64\n",
       "su                float64\n",
       "rbc                object\n",
       "pc                 object\n",
       "pcc                object\n",
       "ba                 object\n",
       "bgr               float64\n",
       "bu                float64\n",
       "sc                float64\n",
       "sod               float64\n",
       "pot               float64\n",
       "hemo              float64\n",
       "pcv                object\n",
       "wc                 object\n",
       "rc                 object\n",
       "htn                object\n",
       "dm                 object\n",
       "cad                object\n",
       "appet              object\n",
       "pe                 object\n",
       "ane                object\n",
       "classification     object\n",
       "dtype: object"
      ]
     },
     "execution_count": 306,
     "metadata": {},
     "output_type": "execute_result"
    }
   ],
   "source": [
    "df.dtypes"
   ]
  },
  {
   "cell_type": "code",
   "execution_count": 307,
   "id": "a0deaf11",
   "metadata": {},
   "outputs": [],
   "source": [
    "from sklearn.preprocessing import LabelEncoder"
   ]
  },
  {
   "cell_type": "code",
   "execution_count": 308,
   "id": "6c3e25b0",
   "metadata": {},
   "outputs": [],
   "source": [
    "m=['rbc', 'pc', 'pcc', 'ba','pcv', 'wc', 'rc', 'htn', 'dm', 'cad',\n",
    "       'appet', 'pe', 'ane','classification']\n",
    "lab=LabelEncoder()\n",
    "for i in m:\n",
    "    df[i]=lab.fit_transform(df[i])\n",
    "    "
   ]
  },
  {
   "cell_type": "code",
   "execution_count": 309,
   "id": "ead82780",
   "metadata": {},
   "outputs": [
    {
     "data": {
      "text/html": [
       "<div>\n",
       "<style scoped>\n",
       "    .dataframe tbody tr th:only-of-type {\n",
       "        vertical-align: middle;\n",
       "    }\n",
       "\n",
       "    .dataframe tbody tr th {\n",
       "        vertical-align: top;\n",
       "    }\n",
       "\n",
       "    .dataframe thead th {\n",
       "        text-align: right;\n",
       "    }\n",
       "</style>\n",
       "<table border=\"1\" class=\"dataframe\">\n",
       "  <thead>\n",
       "    <tr style=\"text-align: right;\">\n",
       "      <th></th>\n",
       "      <th>age</th>\n",
       "      <th>bp</th>\n",
       "      <th>sg</th>\n",
       "      <th>al</th>\n",
       "      <th>su</th>\n",
       "      <th>rbc</th>\n",
       "      <th>pc</th>\n",
       "      <th>pcc</th>\n",
       "      <th>ba</th>\n",
       "      <th>bgr</th>\n",
       "      <th>...</th>\n",
       "      <th>pcv</th>\n",
       "      <th>wc</th>\n",
       "      <th>rc</th>\n",
       "      <th>htn</th>\n",
       "      <th>dm</th>\n",
       "      <th>cad</th>\n",
       "      <th>appet</th>\n",
       "      <th>pe</th>\n",
       "      <th>ane</th>\n",
       "      <th>classification</th>\n",
       "    </tr>\n",
       "  </thead>\n",
       "  <tbody>\n",
       "    <tr>\n",
       "      <th>397</th>\n",
       "      <td>12.0</td>\n",
       "      <td>80.0</td>\n",
       "      <td>1.020</td>\n",
       "      <td>0.0</td>\n",
       "      <td>0.0</td>\n",
       "      <td>1</td>\n",
       "      <td>1</td>\n",
       "      <td>0</td>\n",
       "      <td>0</td>\n",
       "      <td>100.0</td>\n",
       "      <td>...</td>\n",
       "      <td>37</td>\n",
       "      <td>61</td>\n",
       "      <td>33</td>\n",
       "      <td>0</td>\n",
       "      <td>3</td>\n",
       "      <td>1</td>\n",
       "      <td>0</td>\n",
       "      <td>0</td>\n",
       "      <td>0</td>\n",
       "      <td>2</td>\n",
       "    </tr>\n",
       "    <tr>\n",
       "      <th>30</th>\n",
       "      <td>55.0</td>\n",
       "      <td>70.0</td>\n",
       "      <td>1.020</td>\n",
       "      <td>0.0</td>\n",
       "      <td>0.0</td>\n",
       "      <td>1</td>\n",
       "      <td>1</td>\n",
       "      <td>0</td>\n",
       "      <td>0</td>\n",
       "      <td>93.0</td>\n",
       "      <td>...</td>\n",
       "      <td>29</td>\n",
       "      <td>90</td>\n",
       "      <td>31</td>\n",
       "      <td>1</td>\n",
       "      <td>2</td>\n",
       "      <td>1</td>\n",
       "      <td>0</td>\n",
       "      <td>0</td>\n",
       "      <td>0</td>\n",
       "      <td>0</td>\n",
       "    </tr>\n",
       "    <tr>\n",
       "      <th>221</th>\n",
       "      <td>66.0</td>\n",
       "      <td>70.0</td>\n",
       "      <td>1.020</td>\n",
       "      <td>1.0</td>\n",
       "      <td>0.0</td>\n",
       "      <td>1</td>\n",
       "      <td>1</td>\n",
       "      <td>0</td>\n",
       "      <td>0</td>\n",
       "      <td>248.0</td>\n",
       "      <td>...</td>\n",
       "      <td>29</td>\n",
       "      <td>90</td>\n",
       "      <td>31</td>\n",
       "      <td>1</td>\n",
       "      <td>4</td>\n",
       "      <td>1</td>\n",
       "      <td>0</td>\n",
       "      <td>0</td>\n",
       "      <td>0</td>\n",
       "      <td>0</td>\n",
       "    </tr>\n",
       "    <tr>\n",
       "      <th>285</th>\n",
       "      <td>66.0</td>\n",
       "      <td>70.0</td>\n",
       "      <td>1.020</td>\n",
       "      <td>0.0</td>\n",
       "      <td>0.0</td>\n",
       "      <td>1</td>\n",
       "      <td>1</td>\n",
       "      <td>0</td>\n",
       "      <td>0</td>\n",
       "      <td>94.0</td>\n",
       "      <td>...</td>\n",
       "      <td>29</td>\n",
       "      <td>49</td>\n",
       "      <td>38</td>\n",
       "      <td>0</td>\n",
       "      <td>3</td>\n",
       "      <td>1</td>\n",
       "      <td>0</td>\n",
       "      <td>0</td>\n",
       "      <td>0</td>\n",
       "      <td>2</td>\n",
       "    </tr>\n",
       "    <tr>\n",
       "      <th>202</th>\n",
       "      <td>78.0</td>\n",
       "      <td>60.0</td>\n",
       "      <td>1.020</td>\n",
       "      <td>0.0</td>\n",
       "      <td>0.0</td>\n",
       "      <td>1</td>\n",
       "      <td>1</td>\n",
       "      <td>0</td>\n",
       "      <td>0</td>\n",
       "      <td>114.0</td>\n",
       "      <td>...</td>\n",
       "      <td>12</td>\n",
       "      <td>90</td>\n",
       "      <td>31</td>\n",
       "      <td>0</td>\n",
       "      <td>4</td>\n",
       "      <td>1</td>\n",
       "      <td>0</td>\n",
       "      <td>0</td>\n",
       "      <td>1</td>\n",
       "      <td>0</td>\n",
       "    </tr>\n",
       "    <tr>\n",
       "      <th>1</th>\n",
       "      <td>7.0</td>\n",
       "      <td>50.0</td>\n",
       "      <td>1.020</td>\n",
       "      <td>4.0</td>\n",
       "      <td>0.0</td>\n",
       "      <td>1</td>\n",
       "      <td>1</td>\n",
       "      <td>0</td>\n",
       "      <td>0</td>\n",
       "      <td>121.0</td>\n",
       "      <td>...</td>\n",
       "      <td>26</td>\n",
       "      <td>56</td>\n",
       "      <td>31</td>\n",
       "      <td>0</td>\n",
       "      <td>3</td>\n",
       "      <td>1</td>\n",
       "      <td>0</td>\n",
       "      <td>0</td>\n",
       "      <td>0</td>\n",
       "      <td>0</td>\n",
       "    </tr>\n",
       "    <tr>\n",
       "      <th>386</th>\n",
       "      <td>46.0</td>\n",
       "      <td>70.0</td>\n",
       "      <td>1.025</td>\n",
       "      <td>0.0</td>\n",
       "      <td>0.0</td>\n",
       "      <td>1</td>\n",
       "      <td>1</td>\n",
       "      <td>0</td>\n",
       "      <td>0</td>\n",
       "      <td>100.0</td>\n",
       "      <td>...</td>\n",
       "      <td>31</td>\n",
       "      <td>53</td>\n",
       "      <td>44</td>\n",
       "      <td>0</td>\n",
       "      <td>3</td>\n",
       "      <td>1</td>\n",
       "      <td>0</td>\n",
       "      <td>0</td>\n",
       "      <td>0</td>\n",
       "      <td>2</td>\n",
       "    </tr>\n",
       "    <tr>\n",
       "      <th>64</th>\n",
       "      <td>55.0</td>\n",
       "      <td>80.0</td>\n",
       "      <td>1.010</td>\n",
       "      <td>0.0</td>\n",
       "      <td>0.0</td>\n",
       "      <td>1</td>\n",
       "      <td>1</td>\n",
       "      <td>0</td>\n",
       "      <td>0</td>\n",
       "      <td>146.0</td>\n",
       "      <td>...</td>\n",
       "      <td>29</td>\n",
       "      <td>90</td>\n",
       "      <td>31</td>\n",
       "      <td>0</td>\n",
       "      <td>3</td>\n",
       "      <td>0</td>\n",
       "      <td>0</td>\n",
       "      <td>0</td>\n",
       "      <td>0</td>\n",
       "      <td>0</td>\n",
       "    </tr>\n",
       "    <tr>\n",
       "      <th>171</th>\n",
       "      <td>83.0</td>\n",
       "      <td>70.0</td>\n",
       "      <td>1.020</td>\n",
       "      <td>3.0</td>\n",
       "      <td>0.0</td>\n",
       "      <td>1</td>\n",
       "      <td>1</td>\n",
       "      <td>0</td>\n",
       "      <td>0</td>\n",
       "      <td>102.0</td>\n",
       "      <td>...</td>\n",
       "      <td>14</td>\n",
       "      <td>24</td>\n",
       "      <td>10</td>\n",
       "      <td>1</td>\n",
       "      <td>3</td>\n",
       "      <td>1</td>\n",
       "      <td>1</td>\n",
       "      <td>0</td>\n",
       "      <td>1</td>\n",
       "      <td>0</td>\n",
       "    </tr>\n",
       "    <tr>\n",
       "      <th>302</th>\n",
       "      <td>29.0</td>\n",
       "      <td>70.0</td>\n",
       "      <td>1.020</td>\n",
       "      <td>0.0</td>\n",
       "      <td>0.0</td>\n",
       "      <td>1</td>\n",
       "      <td>1</td>\n",
       "      <td>0</td>\n",
       "      <td>0</td>\n",
       "      <td>127.0</td>\n",
       "      <td>...</td>\n",
       "      <td>36</td>\n",
       "      <td>90</td>\n",
       "      <td>31</td>\n",
       "      <td>0</td>\n",
       "      <td>3</td>\n",
       "      <td>1</td>\n",
       "      <td>0</td>\n",
       "      <td>0</td>\n",
       "      <td>0</td>\n",
       "      <td>2</td>\n",
       "    </tr>\n",
       "  </tbody>\n",
       "</table>\n",
       "<p>10 rows × 25 columns</p>\n",
       "</div>"
      ],
      "text/plain": [
       "      age    bp     sg   al   su  rbc  pc  pcc  ba    bgr  ...  pcv  wc  rc  \\\n",
       "397  12.0  80.0  1.020  0.0  0.0    1   1    0   0  100.0  ...   37  61  33   \n",
       "30   55.0  70.0  1.020  0.0  0.0    1   1    0   0   93.0  ...   29  90  31   \n",
       "221  66.0  70.0  1.020  1.0  0.0    1   1    0   0  248.0  ...   29  90  31   \n",
       "285  66.0  70.0  1.020  0.0  0.0    1   1    0   0   94.0  ...   29  49  38   \n",
       "202  78.0  60.0  1.020  0.0  0.0    1   1    0   0  114.0  ...   12  90  31   \n",
       "1     7.0  50.0  1.020  4.0  0.0    1   1    0   0  121.0  ...   26  56  31   \n",
       "386  46.0  70.0  1.025  0.0  0.0    1   1    0   0  100.0  ...   31  53  44   \n",
       "64   55.0  80.0  1.010  0.0  0.0    1   1    0   0  146.0  ...   29  90  31   \n",
       "171  83.0  70.0  1.020  3.0  0.0    1   1    0   0  102.0  ...   14  24  10   \n",
       "302  29.0  70.0  1.020  0.0  0.0    1   1    0   0  127.0  ...   36  90  31   \n",
       "\n",
       "     htn  dm  cad  appet  pe  ane  classification  \n",
       "397    0   3    1      0   0    0               2  \n",
       "30     1   2    1      0   0    0               0  \n",
       "221    1   4    1      0   0    0               0  \n",
       "285    0   3    1      0   0    0               2  \n",
       "202    0   4    1      0   0    1               0  \n",
       "1      0   3    1      0   0    0               0  \n",
       "386    0   3    1      0   0    0               2  \n",
       "64     0   3    0      0   0    0               0  \n",
       "171    1   3    1      1   0    1               0  \n",
       "302    0   3    1      0   0    0               2  \n",
       "\n",
       "[10 rows x 25 columns]"
      ]
     },
     "execution_count": 309,
     "metadata": {},
     "output_type": "execute_result"
    }
   ],
   "source": [
    "df.drop(['id'],axis=1,inplace=True)\n",
    "df.sample(10)"
   ]
  },
  {
   "cell_type": "code",
   "execution_count": 310,
   "id": "8e87ceee",
   "metadata": {},
   "outputs": [
    {
     "name": "stdout",
     "output_type": "stream",
     "text": [
      "0      0\n",
      "1      0\n",
      "2      0\n",
      "3      0\n",
      "4      0\n",
      "      ..\n",
      "395    2\n",
      "396    2\n",
      "397    2\n",
      "398    2\n",
      "399    2\n",
      "Name: classification, Length: 400, dtype: int32\n",
      "      age    bp     sg   al   su  rbc  pc  pcc  ba    bgr  ...  hemo  pcv  wc  \\\n",
      "0    48.0  80.0  1.020  1.0  0.0    1   1    0   0  121.0  ...  15.4   32  72   \n",
      "1     7.0  50.0  1.020  4.0  0.0    1   1    0   0  121.0  ...  11.3   26  56   \n",
      "2    62.0  80.0  1.010  2.0  3.0    1   1    0   0  423.0  ...   9.6   19  70   \n",
      "3    48.0  70.0  1.005  4.0  0.0    1   0    1   0  117.0  ...  11.2   20  62   \n",
      "4    51.0  80.0  1.010  2.0  0.0    1   1    0   0  106.0  ...  11.6   23  68   \n",
      "..    ...   ...    ...  ...  ...  ...  ..  ...  ..    ...  ...   ...  ...  ..   \n",
      "395  55.0  80.0  1.020  0.0  0.0    1   1    0   0  140.0  ...  15.7   35  62   \n",
      "396  42.0  70.0  1.025  0.0  0.0    1   1    0   0   75.0  ...  16.5   42  72   \n",
      "397  12.0  80.0  1.020  0.0  0.0    1   1    0   0  100.0  ...  15.8   37  61   \n",
      "398  17.0  60.0  1.025  0.0  0.0    1   1    0   0  114.0  ...  14.2   39  67   \n",
      "399  58.0  80.0  1.025  0.0  0.0    1   1    0   0  131.0  ...  15.8   41  63   \n",
      "\n",
      "     rc  htn  dm  cad  appet  pe  ane  \n",
      "0    31    1   4    1      0   0    0  \n",
      "1    31    0   3    1      0   0    0  \n",
      "2    31    0   4    1      1   0    1  \n",
      "3    18    1   3    1      1   1    1  \n",
      "4    25    0   3    1      0   0    0  \n",
      "..   ..  ...  ..  ...    ...  ..  ...  \n",
      "395  28    0   3    1      0   0    0  \n",
      "396  41    0   3    1      0   0    0  \n",
      "397  33    0   3    1      0   0    0  \n",
      "398  38    0   3    1      0   0    0  \n",
      "399  40    0   3    1      0   0    0  \n",
      "\n",
      "[400 rows x 24 columns]\n"
     ]
    }
   ],
   "source": [
    "y=df['classification']\n",
    "x=df.drop(['classification'],axis=1)\n",
    "print(y)\n",
    "print(x)"
   ]
  },
  {
   "cell_type": "markdown",
   "id": "461adb1a",
   "metadata": {},
   "source": [
    "# train and test"
   ]
  },
  {
   "cell_type": "code",
   "execution_count": 311,
   "id": "cd191659",
   "metadata": {},
   "outputs": [],
   "source": [
    "from sklearn.model_selection import train_test_split"
   ]
  },
  {
   "cell_type": "code",
   "execution_count": 312,
   "id": "b8be2180",
   "metadata": {},
   "outputs": [],
   "source": [
    "xtrain,xtest,ytrain,ytest=train_test_split(x,y,test_size=.2,random_state=42)"
   ]
  },
  {
   "cell_type": "markdown",
   "id": "2026b23f",
   "metadata": {},
   "source": [
    "# logistic regression"
   ]
  },
  {
   "cell_type": "code",
   "execution_count": 313,
   "id": "837cbecd",
   "metadata": {},
   "outputs": [],
   "source": [
    "from sklearn.linear_model import LogisticRegression"
   ]
  },
  {
   "cell_type": "code",
   "execution_count": 314,
   "id": "104ccc49",
   "metadata": {},
   "outputs": [
    {
     "name": "stderr",
     "output_type": "stream",
     "text": [
      "C:\\Users\\ADMIN\\anaconda3\\lib\\site-packages\\sklearn\\linear_model\\_logistic.py:814: ConvergenceWarning: lbfgs failed to converge (status=1):\n",
      "STOP: TOTAL NO. of ITERATIONS REACHED LIMIT.\n",
      "\n",
      "Increase the number of iterations (max_iter) or scale the data as shown in:\n",
      "    https://scikit-learn.org/stable/modules/preprocessing.html\n",
      "Please also refer to the documentation for alternative solver options:\n",
      "    https://scikit-learn.org/stable/modules/linear_model.html#logistic-regression\n",
      "  n_iter_i = _check_optimize_result(\n"
     ]
    },
    {
     "data": {
      "text/plain": [
       "array([0, 2, 0, 0, 0, 0, 2, 0, 0, 0, 0, 2, 0, 0, 0, 0, 2, 2, 0, 2, 0, 0,\n",
       "       2, 2, 2, 2, 0, 0, 2, 0, 2, 0, 2, 0, 0, 0, 0, 2, 0, 0, 2, 0, 0, 0,\n",
       "       0, 2, 0, 0, 0, 0, 0, 2, 2, 0, 2, 0, 0, 0, 0, 0, 0, 2, 2, 0, 0, 0,\n",
       "       2, 2, 2, 0, 2, 0, 0, 0, 2, 0, 0, 2, 0, 2])"
      ]
     },
     "execution_count": 314,
     "metadata": {},
     "output_type": "execute_result"
    }
   ],
   "source": [
    "lr=LogisticRegression()\n",
    "model_lr=lr.fit(xtrain,ytrain)\n",
    "lr_pred=model_lr.predict(xtest)\n",
    "lr_pred"
   ]
  },
  {
   "cell_type": "code",
   "execution_count": 315,
   "id": "f1cfe021",
   "metadata": {},
   "outputs": [
    {
     "name": "stdout",
     "output_type": "stream",
     "text": [
      "0.975\n",
      "              precision    recall  f1-score   support\n",
      "\n",
      "           0       0.98      0.98      0.98        52\n",
      "           2       0.96      0.96      0.96        28\n",
      "\n",
      "    accuracy                           0.97        80\n",
      "   macro avg       0.97      0.97      0.97        80\n",
      "weighted avg       0.97      0.97      0.97        80\n",
      "\n"
     ]
    }
   ],
   "source": [
    "logistic_accuracy=print(accuracy_score(lr_pred,ytest))\n",
    "print(classification_report(lr_pred,ytest))    "
   ]
  },
  {
   "cell_type": "markdown",
   "id": "7a2f0ffb",
   "metadata": {},
   "source": [
    "# KNN"
   ]
  },
  {
   "cell_type": "code",
   "execution_count": 316,
   "id": "bf5549bf",
   "metadata": {},
   "outputs": [],
   "source": [
    "from sklearn.neighbors import KNeighborsClassifier"
   ]
  },
  {
   "cell_type": "code",
   "execution_count": 317,
   "id": "1d9cd5d8",
   "metadata": {},
   "outputs": [],
   "source": [
    "metric_k=[]\n",
    "neighbors=np.arange(3,17)"
   ]
  },
  {
   "cell_type": "code",
   "execution_count": 318,
   "id": "516baf58",
   "metadata": {},
   "outputs": [
    {
     "name": "stderr",
     "output_type": "stream",
     "text": [
      "C:\\Users\\ADMIN\\anaconda3\\lib\\site-packages\\sklearn\\neighbors\\_classification.py:228: FutureWarning: Unlike other reduction functions (e.g. `skew`, `kurtosis`), the default behavior of `mode` typically preserves the axis it acts along. In SciPy 1.11.0, this behavior will change: the default value of `keepdims` will become False, the `axis` over which the statistic is taken will be eliminated, and the value None will no longer be accepted. Set `keepdims` to True or False to avoid this warning.\n",
      "  mode, _ = stats.mode(_y[neigh_ind, k], axis=1)\n",
      "C:\\Users\\ADMIN\\anaconda3\\lib\\site-packages\\sklearn\\neighbors\\_classification.py:228: FutureWarning: Unlike other reduction functions (e.g. `skew`, `kurtosis`), the default behavior of `mode` typically preserves the axis it acts along. In SciPy 1.11.0, this behavior will change: the default value of `keepdims` will become False, the `axis` over which the statistic is taken will be eliminated, and the value None will no longer be accepted. Set `keepdims` to True or False to avoid this warning.\n",
      "  mode, _ = stats.mode(_y[neigh_ind, k], axis=1)\n",
      "C:\\Users\\ADMIN\\anaconda3\\lib\\site-packages\\sklearn\\neighbors\\_classification.py:228: FutureWarning: Unlike other reduction functions (e.g. `skew`, `kurtosis`), the default behavior of `mode` typically preserves the axis it acts along. In SciPy 1.11.0, this behavior will change: the default value of `keepdims` will become False, the `axis` over which the statistic is taken will be eliminated, and the value None will no longer be accepted. Set `keepdims` to True or False to avoid this warning.\n",
      "  mode, _ = stats.mode(_y[neigh_ind, k], axis=1)\n",
      "C:\\Users\\ADMIN\\anaconda3\\lib\\site-packages\\sklearn\\neighbors\\_classification.py:228: FutureWarning: Unlike other reduction functions (e.g. `skew`, `kurtosis`), the default behavior of `mode` typically preserves the axis it acts along. In SciPy 1.11.0, this behavior will change: the default value of `keepdims` will become False, the `axis` over which the statistic is taken will be eliminated, and the value None will no longer be accepted. Set `keepdims` to True or False to avoid this warning.\n",
      "  mode, _ = stats.mode(_y[neigh_ind, k], axis=1)\n",
      "C:\\Users\\ADMIN\\anaconda3\\lib\\site-packages\\sklearn\\neighbors\\_classification.py:228: FutureWarning: Unlike other reduction functions (e.g. `skew`, `kurtosis`), the default behavior of `mode` typically preserves the axis it acts along. In SciPy 1.11.0, this behavior will change: the default value of `keepdims` will become False, the `axis` over which the statistic is taken will be eliminated, and the value None will no longer be accepted. Set `keepdims` to True or False to avoid this warning.\n",
      "  mode, _ = stats.mode(_y[neigh_ind, k], axis=1)\n",
      "C:\\Users\\ADMIN\\anaconda3\\lib\\site-packages\\sklearn\\neighbors\\_classification.py:228: FutureWarning: Unlike other reduction functions (e.g. `skew`, `kurtosis`), the default behavior of `mode` typically preserves the axis it acts along. In SciPy 1.11.0, this behavior will change: the default value of `keepdims` will become False, the `axis` over which the statistic is taken will be eliminated, and the value None will no longer be accepted. Set `keepdims` to True or False to avoid this warning.\n",
      "  mode, _ = stats.mode(_y[neigh_ind, k], axis=1)\n",
      "C:\\Users\\ADMIN\\anaconda3\\lib\\site-packages\\sklearn\\neighbors\\_classification.py:228: FutureWarning: Unlike other reduction functions (e.g. `skew`, `kurtosis`), the default behavior of `mode` typically preserves the axis it acts along. In SciPy 1.11.0, this behavior will change: the default value of `keepdims` will become False, the `axis` over which the statistic is taken will be eliminated, and the value None will no longer be accepted. Set `keepdims` to True or False to avoid this warning.\n",
      "  mode, _ = stats.mode(_y[neigh_ind, k], axis=1)\n",
      "C:\\Users\\ADMIN\\anaconda3\\lib\\site-packages\\sklearn\\neighbors\\_classification.py:228: FutureWarning: Unlike other reduction functions (e.g. `skew`, `kurtosis`), the default behavior of `mode` typically preserves the axis it acts along. In SciPy 1.11.0, this behavior will change: the default value of `keepdims` will become False, the `axis` over which the statistic is taken will be eliminated, and the value None will no longer be accepted. Set `keepdims` to True or False to avoid this warning.\n",
      "  mode, _ = stats.mode(_y[neigh_ind, k], axis=1)\n",
      "C:\\Users\\ADMIN\\anaconda3\\lib\\site-packages\\sklearn\\neighbors\\_classification.py:228: FutureWarning: Unlike other reduction functions (e.g. `skew`, `kurtosis`), the default behavior of `mode` typically preserves the axis it acts along. In SciPy 1.11.0, this behavior will change: the default value of `keepdims` will become False, the `axis` over which the statistic is taken will be eliminated, and the value None will no longer be accepted. Set `keepdims` to True or False to avoid this warning.\n",
      "  mode, _ = stats.mode(_y[neigh_ind, k], axis=1)\n",
      "C:\\Users\\ADMIN\\anaconda3\\lib\\site-packages\\sklearn\\neighbors\\_classification.py:228: FutureWarning: Unlike other reduction functions (e.g. `skew`, `kurtosis`), the default behavior of `mode` typically preserves the axis it acts along. In SciPy 1.11.0, this behavior will change: the default value of `keepdims` will become False, the `axis` over which the statistic is taken will be eliminated, and the value None will no longer be accepted. Set `keepdims` to True or False to avoid this warning.\n",
      "  mode, _ = stats.mode(_y[neigh_ind, k], axis=1)\n",
      "C:\\Users\\ADMIN\\anaconda3\\lib\\site-packages\\sklearn\\neighbors\\_classification.py:228: FutureWarning: Unlike other reduction functions (e.g. `skew`, `kurtosis`), the default behavior of `mode` typically preserves the axis it acts along. In SciPy 1.11.0, this behavior will change: the default value of `keepdims` will become False, the `axis` over which the statistic is taken will be eliminated, and the value None will no longer be accepted. Set `keepdims` to True or False to avoid this warning.\n",
      "  mode, _ = stats.mode(_y[neigh_ind, k], axis=1)\n",
      "C:\\Users\\ADMIN\\anaconda3\\lib\\site-packages\\sklearn\\neighbors\\_classification.py:228: FutureWarning: Unlike other reduction functions (e.g. `skew`, `kurtosis`), the default behavior of `mode` typically preserves the axis it acts along. In SciPy 1.11.0, this behavior will change: the default value of `keepdims` will become False, the `axis` over which the statistic is taken will be eliminated, and the value None will no longer be accepted. Set `keepdims` to True or False to avoid this warning.\n",
      "  mode, _ = stats.mode(_y[neigh_ind, k], axis=1)\n",
      "C:\\Users\\ADMIN\\anaconda3\\lib\\site-packages\\sklearn\\neighbors\\_classification.py:228: FutureWarning: Unlike other reduction functions (e.g. `skew`, `kurtosis`), the default behavior of `mode` typically preserves the axis it acts along. In SciPy 1.11.0, this behavior will change: the default value of `keepdims` will become False, the `axis` over which the statistic is taken will be eliminated, and the value None will no longer be accepted. Set `keepdims` to True or False to avoid this warning.\n",
      "  mode, _ = stats.mode(_y[neigh_ind, k], axis=1)\n",
      "C:\\Users\\ADMIN\\anaconda3\\lib\\site-packages\\sklearn\\neighbors\\_classification.py:228: FutureWarning: Unlike other reduction functions (e.g. `skew`, `kurtosis`), the default behavior of `mode` typically preserves the axis it acts along. In SciPy 1.11.0, this behavior will change: the default value of `keepdims` will become False, the `axis` over which the statistic is taken will be eliminated, and the value None will no longer be accepted. Set `keepdims` to True or False to avoid this warning.\n",
      "  mode, _ = stats.mode(_y[neigh_ind, k], axis=1)\n"
     ]
    }
   ],
   "source": [
    "for k in neighbors:\n",
    "    knn=KNeighborsClassifier(n_neighbors=k)\n",
    "    model_knn=knn.fit(xtrain,ytrain)\n",
    "    knn_pred=model_knn.predict(xtest)\n",
    "    acc=accuracy_score(knn_pred,ytest)\n",
    "    metric_k.append(acc)"
   ]
  },
  {
   "cell_type": "code",
   "execution_count": 319,
   "id": "be885f9d",
   "metadata": {},
   "outputs": [
    {
     "data": {
      "text/plain": [
       "[0.85,\n",
       " 0.875,\n",
       " 0.8625,\n",
       " 0.85,\n",
       " 0.85,\n",
       " 0.85,\n",
       " 0.8375,\n",
       " 0.8375,\n",
       " 0.8375,\n",
       " 0.8375,\n",
       " 0.8,\n",
       " 0.825,\n",
       " 0.8125,\n",
       " 0.825]"
      ]
     },
     "execution_count": 319,
     "metadata": {},
     "output_type": "execute_result"
    }
   ],
   "source": [
    "metric_k"
   ]
  },
  {
   "cell_type": "code",
   "execution_count": 320,
   "id": "95fa5eaf",
   "metadata": {},
   "outputs": [
    {
     "data": {
      "image/png": "[encoded data removed]",
      "text/plain": [
       "<Figure size 640x480 with 1 Axes>"
      ]
     },
     "metadata": {},
     "output_type": "display_data"
    }
   ],
   "source": [
    "plt.plot(neighbors,metric_k,'-o')\n",
    "plt.xlabel('k value')\n",
    "plt.ylabel('frequency')\n",
    "plt.grid()"
   ]
  },
  {
   "cell_type": "code",
   "execution_count": 321,
   "id": "8337df53",
   "metadata": {},
   "outputs": [
    {
     "name": "stderr",
     "output_type": "stream",
     "text": [
      "C:\\Users\\ADMIN\\anaconda3\\lib\\site-packages\\sklearn\\neighbors\\_classification.py:228: FutureWarning: Unlike other reduction functions (e.g. `skew`, `kurtosis`), the default behavior of `mode` typically preserves the axis it acts along. In SciPy 1.11.0, this behavior will change: the default value of `keepdims` will become False, the `axis` over which the statistic is taken will be eliminated, and the value None will no longer be accepted. Set `keepdims` to True or False to avoid this warning.\n",
      "  mode, _ = stats.mode(_y[neigh_ind, k], axis=1)\n"
     ]
    },
    {
     "data": {
      "text/plain": [
       "array([2, 2, 0, 0, 0, 0, 2, 2, 2, 0, 0, 2, 0, 0, 0, 0, 2, 2, 0, 2, 2, 0,\n",
       "       2, 2, 2, 2, 2, 0, 2, 0, 2, 0, 2, 0, 0, 0, 0, 2, 0, 0, 2, 2, 0, 0,\n",
       "       0, 2, 0, 2, 0, 2, 2, 0, 2, 0, 0, 0, 0, 0, 0, 2, 0, 0, 2, 0, 0, 0,\n",
       "       2, 2, 2, 0, 2, 0, 2, 0, 2, 0, 2, 2, 2, 2])"
      ]
     },
     "execution_count": 321,
     "metadata": {},
     "output_type": "execute_result"
    }
   ],
   "source": [
    "knn=KNeighborsClassifier(n_neighbors=13)\n",
    "model_knn=knn.fit(xtrain,ytrain)\n",
    "knn_pred=model_knn.predict(xtest)\n",
    "knn_pred"
   ]
  },
  {
   "cell_type": "code",
   "execution_count": 322,
   "id": "fe89755d",
   "metadata": {},
   "outputs": [
    {
     "name": "stdout",
     "output_type": "stream",
     "text": [
      "0.8\n",
      "              precision    recall  f1-score   support\n",
      "\n",
      "           0       0.75      0.93      0.83        42\n",
      "           2       0.89      0.66      0.76        38\n",
      "\n",
      "    accuracy                           0.80        80\n",
      "   macro avg       0.82      0.79      0.79        80\n",
      "weighted avg       0.82      0.80      0.80        80\n",
      "\n"
     ]
    }
   ],
   "source": [
    "knn_accuracy=print(accuracy_score(knn_pred,ytest))\n",
    "print(classification_report(knn_pred,ytest))"
   ]
  },
  {
   "cell_type": "markdown",
   "id": "9ceebdf7",
   "metadata": {},
   "source": [
    "# svm"
   ]
  },
  {
   "cell_type": "code",
   "execution_count": 323,
   "id": "0dd8ec3e",
   "metadata": {},
   "outputs": [],
   "source": [
    "from sklearn.svm import SVC"
   ]
  },
  {
   "cell_type": "code",
   "execution_count": 324,
   "id": "0a85ae04",
   "metadata": {},
   "outputs": [
    {
     "data": {
      "text/plain": [
       "array([2, 2, 0, 0, 0, 0, 2, 0, 2, 0, 0, 2, 0, 0, 0, 0, 2, 2, 0, 2, 0, 0,\n",
       "       2, 2, 2, 2, 2, 0, 2, 0, 2, 0, 2, 0, 0, 2, 0, 2, 0, 0, 2, 0, 0, 0,\n",
       "       0, 2, 0, 0, 0, 2, 2, 2, 2, 0, 2, 0, 0, 0, 0, 2, 0, 2, 2, 0, 0, 0,\n",
       "       2, 2, 0, 0, 2, 0, 2, 0, 2, 0, 0, 2, 0, 2])"
      ]
     },
     "execution_count": 324,
     "metadata": {},
     "output_type": "execute_result"
    }
   ],
   "source": [
    "svm=SVC()\n",
    "model_svm=svm.fit(xtrain,ytrain)\n",
    "svm_pred=model_svm.predict(xtest)\n",
    "svm_pred"
   ]
  },
  {
   "cell_type": "code",
   "execution_count": 325,
   "id": "546f430b",
   "metadata": {},
   "outputs": [
    {
     "name": "stdout",
     "output_type": "stream",
     "text": [
      "0.8875\n",
      "              precision    recall  f1-score   support\n",
      "\n",
      "           0       0.85      0.98      0.91        45\n",
      "           2       0.96      0.77      0.86        35\n",
      "\n",
      "    accuracy                           0.89        80\n",
      "   macro avg       0.91      0.87      0.88        80\n",
      "weighted avg       0.90      0.89      0.89        80\n",
      "\n"
     ]
    }
   ],
   "source": [
    "svm_accuracy=print(accuracy_score(svm_pred,ytest))\n",
    "print(classification_report(svm_pred,ytest))"
   ]
  },
  {
   "cell_type": "markdown",
   "id": "9cab38ea",
   "metadata": {},
   "source": [
    "# decision tree"
   ]
  },
  {
   "cell_type": "code",
   "execution_count": 326,
   "id": "d0e25d24",
   "metadata": {},
   "outputs": [],
   "source": [
    "from sklearn.tree import DecisionTreeClassifier"
   ]
  },
  {
   "cell_type": "code",
   "execution_count": 327,
   "id": "17d9188c",
   "metadata": {},
   "outputs": [
    {
     "data": {
      "text/plain": [
       "array([0, 2, 0, 0, 0, 0, 2, 0, 2, 0, 0, 2, 0, 0, 0, 0, 2, 2, 0, 2, 0, 0,\n",
       "       2, 2, 0, 2, 0, 0, 2, 0, 2, 0, 2, 0, 0, 0, 0, 2, 0, 0, 2, 0, 0, 0,\n",
       "       0, 2, 0, 0, 0, 0, 0, 2, 2, 0, 2, 0, 0, 0, 0, 0, 0, 2, 2, 0, 0, 0,\n",
       "       2, 2, 2, 0, 2, 0, 0, 0, 2, 1, 0, 2, 0, 2])"
      ]
     },
     "execution_count": 327,
     "metadata": {},
     "output_type": "execute_result"
    }
   ],
   "source": [
    "dt=DecisionTreeClassifier(random_state=42)\n",
    "model_dt=dt.fit(xtrain,ytrain)\n",
    "dt_pred=model_dt.predict(xtest)\n",
    "dt_pred"
   ]
  },
  {
   "cell_type": "code",
   "execution_count": 328,
   "id": "4629f1a3",
   "metadata": {},
   "outputs": [
    {
     "name": "stdout",
     "output_type": "stream",
     "text": [
      "0.9875\n",
      "              precision    recall  f1-score   support\n",
      "\n",
      "           0       0.98      1.00      0.99        51\n",
      "           1       0.00      0.00      0.00         1\n",
      "           2       1.00      1.00      1.00        28\n",
      "\n",
      "    accuracy                           0.99        80\n",
      "   macro avg       0.66      0.67      0.66        80\n",
      "weighted avg       0.98      0.99      0.98        80\n",
      "\n"
     ]
    },
    {
     "name": "stderr",
     "output_type": "stream",
     "text": [
      "C:\\Users\\ADMIN\\anaconda3\\lib\\site-packages\\sklearn\\metrics\\_classification.py:1318: UndefinedMetricWarning: Precision and F-score are ill-defined and being set to 0.0 in labels with no predicted samples. Use `zero_division` parameter to control this behavior.\n",
      "  _warn_prf(average, modifier, msg_start, len(result))\n",
      "C:\\Users\\ADMIN\\anaconda3\\lib\\site-packages\\sklearn\\metrics\\_classification.py:1318: UndefinedMetricWarning: Precision and F-score are ill-defined and being set to 0.0 in labels with no predicted samples. Use `zero_division` parameter to control this behavior.\n",
      "  _warn_prf(average, modifier, msg_start, len(result))\n",
      "C:\\Users\\ADMIN\\anaconda3\\lib\\site-packages\\sklearn\\metrics\\_classification.py:1318: UndefinedMetricWarning: Precision and F-score are ill-defined and being set to 0.0 in labels with no predicted samples. Use `zero_division` parameter to control this behavior.\n",
      "  _warn_prf(average, modifier, msg_start, len(result))\n"
     ]
    }
   ],
   "source": [
    "decision_accuracy=print(accuracy_score(dt_pred,ytest))\n",
    "print(classification_report(dt_pred,ytest))"
   ]
  },
  {
   "cell_type": "markdown",
   "id": "c84faef4",
   "metadata": {},
   "source": [
    "# random forest"
   ]
  },
  {
   "cell_type": "code",
   "execution_count": 329,
   "id": "6dbfcde6",
   "metadata": {},
   "outputs": [],
   "source": [
    "from sklearn.ensemble import RandomForestClassifier"
   ]
  },
  {
   "cell_type": "code",
   "execution_count": 330,
   "id": "c8c25d2d",
   "metadata": {},
   "outputs": [
    {
     "data": {
      "text/plain": [
       "array([0, 2, 0, 0, 0, 0, 2, 0, 2, 0, 0, 2, 0, 0, 0, 0, 2, 2, 0, 2, 0, 0,\n",
       "       2, 2, 0, 2, 0, 0, 2, 0, 2, 0, 2, 0, 0, 0, 0, 2, 0, 0, 2, 0, 0, 0,\n",
       "       0, 2, 0, 0, 0, 0, 0, 2, 2, 0, 2, 0, 0, 0, 0, 0, 0, 2, 2, 0, 0, 0,\n",
       "       2, 2, 2, 0, 2, 0, 0, 0, 2, 0, 0, 2, 0, 2])"
      ]
     },
     "execution_count": 330,
     "metadata": {},
     "output_type": "execute_result"
    }
   ],
   "source": [
    "rf=RandomForestClassifier(random_state=42)\n",
    "model_rf=rf.fit(xtrain,ytrain)\n",
    "rf_pred=model_rf.predict(xtest)\n",
    "rf_pred"
   ]
  },
  {
   "cell_type": "code",
   "execution_count": 331,
   "id": "2fd9d0f7",
   "metadata": {},
   "outputs": [
    {
     "name": "stdout",
     "output_type": "stream",
     "text": [
      "1.0\n",
      "              precision    recall  f1-score   support\n",
      "\n",
      "           0       1.00      1.00      1.00        52\n",
      "           2       1.00      1.00      1.00        28\n",
      "\n",
      "    accuracy                           1.00        80\n",
      "   macro avg       1.00      1.00      1.00        80\n",
      "weighted avg       1.00      1.00      1.00        80\n",
      "\n"
     ]
    }
   ],
   "source": [
    "random_accuracy=print(accuracy_score(rf_pred,ytest))\n",
    "print(classification_report(rf_pred,ytest))"
   ]
  },
  {
   "cell_type": "markdown",
   "id": "7783e4ea",
   "metadata": {},
   "source": [
    "# boosting"
   ]
  },
  {
   "cell_type": "markdown",
   "id": "8c16b114",
   "metadata": {},
   "source": [
    "# 1.ada boosting"
   ]
  },
  {
   "cell_type": "code",
   "execution_count": 332,
   "id": "07369517",
   "metadata": {},
   "outputs": [],
   "source": [
    "from sklearn.ensemble import AdaBoostClassifier"
   ]
  },
  {
   "cell_type": "code",
   "execution_count": 333,
   "id": "22a56535",
   "metadata": {},
   "outputs": [
    {
     "data": {
      "text/plain": [
       "array([0, 2, 0, 0, 0, 0, 2, 0, 0, 0, 0, 2, 0, 0, 0, 0, 0, 2, 0, 2, 0, 0,\n",
       "       2, 2, 0, 0, 0, 0, 2, 0, 2, 0, 0, 0, 0, 0, 0, 2, 0, 0, 2, 0, 0, 0,\n",
       "       0, 2, 0, 0, 0, 0, 0, 2, 2, 2, 0, 0, 0, 0, 0, 0, 0, 2, 0, 0, 0, 0,\n",
       "       2, 2, 2, 0, 0, 0, 0, 0, 0, 0, 0, 2, 0, 2])"
      ]
     },
     "execution_count": 333,
     "metadata": {},
     "output_type": "execute_result"
    }
   ],
   "source": [
    "ada=AdaBoostClassifier()\n",
    "model_ada=ada.fit(xtrain,ytrain)\n",
    "ada_pred=model_ada.predict(xtest)\n",
    "ada_pred"
   ]
  },
  {
   "cell_type": "code",
   "execution_count": 334,
   "id": "a5987e72",
   "metadata": {},
   "outputs": [
    {
     "name": "stdout",
     "output_type": "stream",
     "text": [
      "0.8875\n",
      "              precision    recall  f1-score   support\n",
      "\n",
      "           0       0.98      0.86      0.92        59\n",
      "           2       0.71      0.95      0.82        21\n",
      "\n",
      "    accuracy                           0.89        80\n",
      "   macro avg       0.85      0.91      0.87        80\n",
      "weighted avg       0.91      0.89      0.89        80\n",
      "\n"
     ]
    }
   ],
   "source": [
    "ada_accuracy=print(accuracy_score(ada_pred,ytest))\n",
    "print(classification_report(ada_pred,ytest))"
   ]
  },
  {
   "cell_type": "markdown",
   "id": "67a2a927",
   "metadata": {},
   "source": [
    "# 2.xg boosting"
   ]
  },
  {
   "cell_type": "code",
   "execution_count": 335,
   "id": "1f510c70",
   "metadata": {},
   "outputs": [],
   "source": [
    "from xgboost import XGBClassifier"
   ]
  },
  {
   "cell_type": "code",
   "execution_count": 336,
   "id": "9c1b784e",
   "metadata": {},
   "outputs": [
    {
     "data": {
      "text/plain": [
       "array([0, 2, 0, 0, 0, 0, 2, 0, 2, 0, 0, 2, 0, 0, 0, 0, 2, 2, 0, 2, 0, 0,\n",
       "       2, 2, 2, 2, 0, 0, 2, 0, 2, 0, 2, 0, 0, 0, 0, 2, 0, 0, 2, 0, 0, 0,\n",
       "       0, 2, 0, 0, 0, 0, 0, 2, 2, 0, 2, 0, 0, 0, 0, 0, 0, 2, 2, 0, 0, 0,\n",
       "       2, 2, 2, 0, 2, 0, 0, 0, 2, 0, 0, 2, 0, 2], dtype=int64)"
      ]
     },
     "execution_count": 336,
     "metadata": {},
     "output_type": "execute_result"
    }
   ],
   "source": [
    "xg=XGBClassifier()\n",
    "model_xg=xg.fit(xtrain,ytrain)\n",
    "xg_pred=model_xg.predict(xtest)\n",
    "xg_pred"
   ]
  },
  {
   "cell_type": "code",
   "execution_count": 337,
   "id": "b0c5162d",
   "metadata": {},
   "outputs": [
    {
     "name": "stdout",
     "output_type": "stream",
     "text": [
      "0.9875\n",
      "              precision    recall  f1-score   support\n",
      "\n",
      "           0       0.98      1.00      0.99        51\n",
      "           2       1.00      0.97      0.98        29\n",
      "\n",
      "    accuracy                           0.99        80\n",
      "   macro avg       0.99      0.98      0.99        80\n",
      "weighted avg       0.99      0.99      0.99        80\n",
      "\n"
     ]
    }
   ],
   "source": [
    "xgb_accuracy=print(accuracy_score(xg_pred,ytest))\n",
    "print(classification_report(xg_pred,ytest))"
   ]
  },
  {
   "cell_type": "markdown",
   "id": "dae05a34",
   "metadata": {},
   "source": [
    "# 3.gradient boosting"
   ]
  },
  {
   "cell_type": "code",
   "execution_count": 338,
   "id": "dfa64e0d",
   "metadata": {},
   "outputs": [],
   "source": [
    "from sklearn.ensemble import GradientBoostingClassifier"
   ]
  },
  {
   "cell_type": "code",
   "execution_count": 339,
   "id": "5f61979e",
   "metadata": {},
   "outputs": [
    {
     "data": {
      "text/plain": [
       "array([0, 2, 0, 0, 0, 0, 2, 0, 2, 0, 0, 2, 0, 0, 0, 0, 2, 2, 0, 2, 0, 0,\n",
       "       2, 2, 2, 2, 0, 0, 2, 0, 2, 0, 2, 0, 0, 0, 0, 2, 0, 0, 2, 0, 0, 0,\n",
       "       0, 2, 0, 0, 0, 0, 0, 2, 2, 0, 2, 0, 0, 0, 0, 0, 0, 2, 2, 0, 0, 0,\n",
       "       2, 2, 2, 0, 2, 0, 0, 0, 2, 1, 0, 2, 0, 2])"
      ]
     },
     "execution_count": 339,
     "metadata": {},
     "output_type": "execute_result"
    }
   ],
   "source": [
    "gb=GradientBoostingClassifier()\n",
    "model_gb=gb.fit(xtrain,ytrain)\n",
    "gb_pred=model_gb.predict(xtest)\n",
    "gb_pred"
   ]
  },
  {
   "cell_type": "code",
   "execution_count": 352,
   "id": "e90f1b33",
   "metadata": {},
   "outputs": [
    {
     "name": "stdout",
     "output_type": "stream",
     "text": [
      "0.975\n",
      "              precision    recall  f1-score   support\n",
      "\n",
      "           0       0.96      1.00      0.98        50\n",
      "           1       0.00      0.00      0.00         1\n",
      "           2       1.00      0.97      0.98        29\n",
      "\n",
      "    accuracy                           0.97        80\n",
      "   macro avg       0.65      0.66      0.65        80\n",
      "weighted avg       0.96      0.97      0.97        80\n",
      "\n"
     ]
    },
    {
     "name": "stderr",
     "output_type": "stream",
     "text": [
      "C:\\Users\\ADMIN\\anaconda3\\lib\\site-packages\\sklearn\\metrics\\_classification.py:1318: UndefinedMetricWarning: Precision and F-score are ill-defined and being set to 0.0 in labels with no predicted samples. Use `zero_division` parameter to control this behavior.\n",
      "  _warn_prf(average, modifier, msg_start, len(result))\n",
      "C:\\Users\\ADMIN\\anaconda3\\lib\\site-packages\\sklearn\\metrics\\_classification.py:1318: UndefinedMetricWarning: Precision and F-score are ill-defined and being set to 0.0 in labels with no predicted samples. Use `zero_division` parameter to control this behavior.\n",
      "  _warn_prf(average, modifier, msg_start, len(result))\n",
      "C:\\Users\\ADMIN\\anaconda3\\lib\\site-packages\\sklearn\\metrics\\_classification.py:1318: UndefinedMetricWarning: Precision and F-score are ill-defined and being set to 0.0 in labels with no predicted samples. Use `zero_division` parameter to control this behavior.\n",
      "  _warn_prf(average, modifier, msg_start, len(result))\n"
     ]
    }
   ],
   "source": [
    "gb_accuracy=print(accuracy_score(gb_pred,ytest))\n",
    "print(classification_report(gb_pred,ytest))"
   ]
  },
  {
   "cell_type": "markdown",
   "id": "42a20de9",
   "metadata": {},
   "source": [
    "# Naive Bayes"
   ]
  },
  {
   "cell_type": "markdown",
   "id": "c39a4de3",
   "metadata": {},
   "source": [
    "# 1.Gaussian NB"
   ]
  },
  {
   "cell_type": "code",
   "execution_count": 341,
   "id": "0232515b",
   "metadata": {},
   "outputs": [],
   "source": [
    "from sklearn.naive_bayes import GaussianNB"
   ]
  },
  {
   "cell_type": "code",
   "execution_count": 342,
   "id": "bb3964ad",
   "metadata": {},
   "outputs": [
    {
     "data": {
      "text/plain": [
       "array([2, 2, 0, 0, 0, 0, 2, 0, 2, 0, 0, 2, 0, 0, 0, 0, 2, 2, 0, 2, 0, 0,\n",
       "       2, 2, 0, 2, 0, 0, 2, 0, 2, 0, 2, 0, 0, 0, 0, 2, 0, 0, 2, 0, 0, 0,\n",
       "       0, 2, 0, 0, 0, 0, 0, 2, 2, 0, 2, 0, 0, 0, 0, 0, 0, 2, 2, 0, 0, 0,\n",
       "       2, 2, 2, 0, 2, 0, 0, 0, 2, 0, 0, 2, 0, 2])"
      ]
     },
     "execution_count": 342,
     "metadata": {},
     "output_type": "execute_result"
    }
   ],
   "source": [
    "gnb=GaussianNB()\n",
    "model_gnb=gnb.fit(xtrain,ytrain)\n",
    "gnb_pred=model_gnb.predict(xtest)\n",
    "gnb_pred"
   ]
  },
  {
   "cell_type": "code",
   "execution_count": 354,
   "id": "b817f10f",
   "metadata": {},
   "outputs": [
    {
     "name": "stdout",
     "output_type": "stream",
     "text": [
      "0.9875\n",
      "              precision    recall  f1-score   support\n",
      "\n",
      "           0       1.00      0.98      0.99        52\n",
      "           2       0.97      1.00      0.98        28\n",
      "\n",
      "    accuracy                           0.99        80\n",
      "   macro avg       0.98      0.99      0.99        80\n",
      "weighted avg       0.99      0.99      0.99        80\n",
      "\n"
     ]
    }
   ],
   "source": [
    "gnb_accuracy=print(accuracy_score(ytest,gnb_pred))\n",
    "print(classification_report(ytest,gnb_pred))"
   ]
  },
  {
   "cell_type": "markdown",
   "id": "bfbbd7a0",
   "metadata": {},
   "source": [
    "# 2.multinomiel"
   ]
  },
  {
   "cell_type": "code",
   "execution_count": 344,
   "id": "d10003f1",
   "metadata": {},
   "outputs": [],
   "source": [
    "from sklearn.naive_bayes import MultinomialNB"
   ]
  },
  {
   "cell_type": "code",
   "execution_count": 345,
   "id": "93e1a049",
   "metadata": {},
   "outputs": [
    {
     "data": {
      "text/plain": [
       "array([2, 2, 0, 0, 0, 0, 2, 0, 2, 0, 0, 2, 0, 1, 0, 1, 2, 2, 0, 2, 0, 0,\n",
       "       2, 2, 2, 2, 0, 0, 2, 0, 2, 0, 2, 0, 2, 2, 0, 2, 0, 0, 2, 0, 0, 0,\n",
       "       0, 2, 0, 0, 0, 2, 2, 2, 2, 1, 2, 0, 1, 0, 0, 2, 0, 2, 2, 0, 0, 1,\n",
       "       2, 2, 2, 0, 2, 0, 2, 0, 2, 0, 0, 2, 0, 2])"
      ]
     },
     "execution_count": 345,
     "metadata": {},
     "output_type": "execute_result"
    }
   ],
   "source": [
    "nm=MultinomialNB()\n",
    "model_nm=nm.fit(xtrain,ytrain)\n",
    "nm_pred=model_nm.predict(xtest)\n",
    "nm_pred"
   ]
  },
  {
   "cell_type": "code",
   "execution_count": 356,
   "id": "d34628ce",
   "metadata": {},
   "outputs": [
    {
     "name": "stdout",
     "output_type": "stream",
     "text": [
      "0.8375\n",
      "              precision    recall  f1-score   support\n",
      "\n",
      "           0       1.00      0.75      0.86        52\n",
      "           1       0.00      0.00      0.00         0\n",
      "           2       0.78      1.00      0.88        28\n",
      "\n",
      "    accuracy                           0.84        80\n",
      "   macro avg       0.59      0.58      0.58        80\n",
      "weighted avg       0.92      0.84      0.86        80\n",
      "\n"
     ]
    },
    {
     "name": "stderr",
     "output_type": "stream",
     "text": [
      "C:\\Users\\ADMIN\\anaconda3\\lib\\site-packages\\sklearn\\metrics\\_classification.py:1318: UndefinedMetricWarning: Recall and F-score are ill-defined and being set to 0.0 in labels with no true samples. Use `zero_division` parameter to control this behavior.\n",
      "  _warn_prf(average, modifier, msg_start, len(result))\n",
      "C:\\Users\\ADMIN\\anaconda3\\lib\\site-packages\\sklearn\\metrics\\_classification.py:1318: UndefinedMetricWarning: Recall and F-score are ill-defined and being set to 0.0 in labels with no true samples. Use `zero_division` parameter to control this behavior.\n",
      "  _warn_prf(average, modifier, msg_start, len(result))\n",
      "C:\\Users\\ADMIN\\anaconda3\\lib\\site-packages\\sklearn\\metrics\\_classification.py:1318: UndefinedMetricWarning: Recall and F-score are ill-defined and being set to 0.0 in labels with no true samples. Use `zero_division` parameter to control this behavior.\n",
      "  _warn_prf(average, modifier, msg_start, len(result))\n"
     ]
    }
   ],
   "source": [
    "mnb_accuracy=print(accuracy_score(ytest,nm_pred))\n",
    "print(classification_report(ytest,nm_pred))"
   ]
  },
  {
   "cell_type": "markdown",
   "id": "9a2b7965",
   "metadata": {},
   "source": [
    "# 3.bernoulli"
   ]
  },
  {
   "cell_type": "code",
   "execution_count": 347,
   "id": "3e598e7f",
   "metadata": {},
   "outputs": [],
   "source": [
    "from sklearn.naive_bayes import BernoulliNB"
   ]
  },
  {
   "cell_type": "code",
   "execution_count": 348,
   "id": "ffcb409d",
   "metadata": {},
   "outputs": [
    {
     "data": {
      "text/plain": [
       "array([2, 2, 0, 0, 0, 0, 2, 2, 2, 0, 0, 2, 0, 0, 0, 0, 2, 2, 0, 2, 0, 0,\n",
       "       2, 2, 0, 2, 0, 0, 2, 0, 2, 0, 2, 0, 0, 0, 0, 2, 0, 0, 2, 0, 0, 0,\n",
       "       0, 2, 0, 0, 0, 0, 2, 2, 2, 0, 2, 0, 0, 0, 0, 2, 0, 2, 2, 0, 0, 0,\n",
       "       2, 2, 2, 0, 2, 0, 0, 0, 2, 0, 0, 2, 0, 2])"
      ]
     },
     "execution_count": 348,
     "metadata": {},
     "output_type": "execute_result"
    }
   ],
   "source": [
    "nb=BernoulliNB()\n",
    "model_nb=nb.fit(xtrain,ytrain)\n",
    "nb_pred=model_nb.predict(xtest)\n",
    "nb_pred"
   ]
  },
  {
   "cell_type": "code",
   "execution_count": 358,
   "id": "c37639c0",
   "metadata": {},
   "outputs": [
    {
     "name": "stdout",
     "output_type": "stream",
     "text": [
      "0.95\n",
      "              precision    recall  f1-score   support\n",
      "\n",
      "           0       1.00      0.92      0.96        52\n",
      "           2       0.88      1.00      0.93        28\n",
      "\n",
      "    accuracy                           0.95        80\n",
      "   macro avg       0.94      0.96      0.95        80\n",
      "weighted avg       0.96      0.95      0.95        80\n",
      "\n"
     ]
    }
   ],
   "source": [
    "bnb_accuracy=print(accuracy_score(ytest,nb_pred))\n",
    "print(classification_report(ytest,nb_pred))"
   ]
  },
  {
   "cell_type": "markdown",
   "id": "2869c7fb",
   "metadata": {},
   "source": [
    "# Accuracy Scores of Classification Algorithms"
   ]
  },
  {
   "cell_type": "code",
   "execution_count": 367,
   "id": "8ea49a94",
   "metadata": {},
   "outputs": [
    {
     "data": {
      "image/png": "[encoded data removed]",
      "text/plain": [
       "<Figure size 1000x600 with 1 Axes>"
      ]
     },
     "metadata": {},
     "output_type": "display_data"
    }
   ],
   "source": [
    "random_accuracy=1.0\n",
    "logistic_accuracy=.975\n",
    "decision_accuracy=.9875\n",
    "knn_accuracy=.8\n",
    "svm_accuracy=.8875\n",
    "ada_accuracy=.8875\n",
    "xgb_accuracy=.9875\n",
    "gb_accuracy=.975\n",
    "gnb_accuracy=.9875\n",
    "mnb_accuracy=.8375\n",
    "bnb_accuracy=.95\n",
    "plt.figure(figsize=(10, 6))\n",
    "sns.barplot(x=['LogisticRegression','BernoulliNB','RandomForestClassifier','MultinomialNB','DecisionTreeClassifier','KNeighborsClassifier','SVC','AdaBoostClassifier','XGBClassifier','GradientBoostingClassifier','GaussianNB'], y=[bnb_accuracy,logistic_accuracy,random_accuracy,decision_accuracy,knn_accuracy,svm_accuracy,ada_accuracy,xgb_accuracy,gb_accuracy,gnb_accuracy,mnb_accuracy], palette='viridis')\n",
    "plt.title('Accuracy Scores of Classification Algorithms')\n",
    "plt.xlabel('Algorithms')\n",
    "plt.ylabel('Accuracy')\n",
    "plt.ylim(0.5, 1.0)\n",
    "plt.xticks(rotation=90)\n",
    "plt.show()"
   ]
  },
  {
   "cell_type": "markdown",
   "id": "f4356e4b",
   "metadata": {},
   "source": [
    "# CONCLUSION"
   ]
  },
  {
   "cell_type": "markdown",
   "id": "2e753567",
   "metadata": {},
   "source": [
    "Random Forest is the best algorithm for this dataset based on the evaluation metrics, dataset characteristics, and insights gained,And it gives best accuracy with accuracy score 100%"
   ]
  },
  {
   "cell_type": "code",
   "execution_count": null,
   "id": "4df17857",
   "metadata": {},
   "outputs": [],
   "source": []
  }
 ],
 "metadata": {
  "kernelspec": {
   "display_name": "Python 3 (ipykernel)",
   "language": "python",
   "name": "python3"
  },
  "language_info": {
   "codemirror_mode": {
    "name": "ipython",
    "version": 3
   },
   "file_extension": ".py",
   "mimetype": "text/x-python",
   "name": "python",
   "nbconvert_exporter": "python",
   "pygments_lexer": "ipython3",
   "version": "3.9.13"
  }
 },
 "nbformat": 4,
 "nbformat_minor": 5
}
